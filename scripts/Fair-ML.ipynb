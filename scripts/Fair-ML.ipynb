{
 "cells": [
  {
   "cell_type": "markdown",
   "metadata": {},
   "source": [
    "# Fair Machine Learning Utilizing Causal Inference\n",
    "\n",
    "In the notebook, we reproduce the results from the paper, [Counterfactual Fairness](https://arxiv.org/pdf/1703.06856v3.pdf) by Kusner et al. \n",
    "\n",
    "Machine learning (ML) is a powerful tool with numerous uses across varying fields. It can be applied in tasks such as filtering out spam from emails, detecting credit card fraud, converting your speech into text and many more. There are also fields of like credit scoring, crime prediction, and loan assessment that contain latent bias. These data sets when used for decision making can contain bias due to historical prejudice. This poses a challenge for statistician to ensure their models do not perpetuate discrimination. \n",
    "\n",
    "The authors advocate for a fair algorithm, introducting Counterfactual Fairness. This framework builds on Pearl's causal framework, using causal diagrams and counterfactuals to understand biases in data. The authors propose a model where predictors are counterfactually fair if they yield the same distribution under hypothetical changes (counterfactuals) in protected attributes. \n",
    "\n",
    "They apply this concept to a law school success prediction case study, comparing their approach to traditional models and demonstrate that counterfactual fairness offers a more robust mechanism for addressing biases inherent in predictive algorithms. \n",
    "\n",
    "\n",
    "### Background\n",
    "\n",
    "\n",
    "#### Notation\n",
    "A - set of protected attributes of an individual\n",
    "\n",
    "X - any other observable attributes of an individual\n",
    "\n",
    "U - set of relevant latent attributes which are not observed\n",
    "\n",
    "Y - outcome to be predicted (may be contaminated with historical biases)\n",
    "\n",
    "$\\hat{Y}$ - predictors, RV that depends on A, X, U\n",
    "\n",
    "\n",
    "#### Fairness\n",
    "\n",
    "Previous research has defined fairness in the past through various algorithms: \n",
    "\n",
    "1. **Fairness Through Unawareness**: An algorithm is fair as long as the protected attributes are not used in the decision making process\n",
    "\n",
    "2. **Individual Fairness**: An algorithm is fair if similar individuals receive similar predictions\n",
    "    - $\\hat{Y}(X^{(i)},A^{(i)}) \\approx \\hat{Y}(X^{(j)},A^{(j)})$\n",
    "    - Two individuals are similar according to a metric $d(i,j)$ which will measure the similarity between the individuals\n",
    "3. **Demographic Parity**: An algorithm is fair if prediction rates are equal across protected groups\n",
    "4. **Equality of Opportunity**: An algorithm is fair if prediction rates are equal across those who meet a certain criteria\n",
    "\n",
    "These all lack a relationship between all attributes and do not adequately address historical biases.\n",
    "\n",
    "**Counterfactual Fairness**: A predictor $\\hat{Y}$ is counterfactually fair, if for any context $X = x$ and $A = a$, the distribution of $\\hat{Y}$ remains the same even if we hypothetically change $A$ to any other attainable value $a'$\n",
    "\n",
    "$$ \n",
    "P(\\hat{Y}_{A \\leftarrow a}(U) = y | X = x, A = a) = P(\\hat{Y}_{A \\leftarrow a'}(U) = y | X = x, A = a)\n",
    "$$\n",
    "\n",
    "\n",
    "**Lemma**:  A predictor $\\hat{Y}$ is CF if it's a function of variables not causally downstream of the protected attribute A. \n",
    "\n"
   ]
  },
  {
   "cell_type": "markdown",
   "metadata": {},
   "source": [
    "### Modeling\n",
    "\n",
    "The authors propose 4 models: \n",
    "\n",
    "#### Unfair Models\n",
    "\n",
    "1. **Full**: standard technique of using all features\n",
    "\n",
    "2. **Unaware**: FTU, where one doesn't use any protected attribute\n",
    "\n",
    "#### Fair models\n",
    "\n",
    "There are 3 ways to model a CF predictor, each increasing assumption strength\n",
    "\n",
    "**Level 1**: Uses observable variables not caused by protected attributes. Because this includes descendant of protected attributes, we cannot model level 1. We believe LSAT, GPA, FYA to be biased by Race and Sex.\n",
    "\n",
    "**Level 2**: Models latent 'fair' variables which are parents of the observed variables. These are independent of both race and sex. \n",
    "\n",
    "**Level 3**: Models the data using an additive error model and uses the independent error terms to make predictions.\n"
   ]
  },
  {
   "cell_type": "code",
   "execution_count": 1,
   "metadata": {},
   "outputs": [],
   "source": [
    "# import libraries\n",
    "import os\n",
    "import pickle\n",
    "from tqdm.notebook import tqdm\n",
    "\n",
    "import numpy as np\n",
    "import pandas as pd\n",
    "\n",
    "# probability and modeling\n",
    "import torch\n",
    "from torch import nn\n",
    "import pyro\n",
    "import pyro.distributions as dist\n",
    "from pyro.nn import PyroModule\n",
    "from sklearn.model_selection import train_test_split\n",
    "from sklearn.preprocessing import OneHotEncoder\n",
    "\n",
    "import seaborn as sns\n",
    "import matplotlib.pyplot as plt"
   ]
  },
  {
   "cell_type": "code",
   "execution_count": 2,
   "metadata": {},
   "outputs": [
    {
     "data": {
      "text/html": [
       "<div>\n",
       "<style scoped>\n",
       "    .dataframe tbody tr th:only-of-type {\n",
       "        vertical-align: middle;\n",
       "    }\n",
       "\n",
       "    .dataframe tbody tr th {\n",
       "        vertical-align: top;\n",
       "    }\n",
       "\n",
       "    .dataframe thead th {\n",
       "        text-align: right;\n",
       "    }\n",
       "</style>\n",
       "<table border=\"1\" class=\"dataframe\">\n",
       "  <thead>\n",
       "    <tr style=\"text-align: right;\">\n",
       "      <th></th>\n",
       "      <th>Unnamed: 0</th>\n",
       "      <th>race</th>\n",
       "      <th>sex</th>\n",
       "      <th>LSAT</th>\n",
       "      <th>UGPA</th>\n",
       "      <th>region_first</th>\n",
       "      <th>ZFYA</th>\n",
       "      <th>sander_index</th>\n",
       "      <th>first_pf</th>\n",
       "    </tr>\n",
       "  </thead>\n",
       "  <tbody>\n",
       "    <tr>\n",
       "      <th>0</th>\n",
       "      <td>0</td>\n",
       "      <td>White</td>\n",
       "      <td>1</td>\n",
       "      <td>39.0</td>\n",
       "      <td>3.1</td>\n",
       "      <td>GL</td>\n",
       "      <td>-0.98</td>\n",
       "      <td>0.782738</td>\n",
       "      <td>1.0</td>\n",
       "    </tr>\n",
       "    <tr>\n",
       "      <th>1</th>\n",
       "      <td>1</td>\n",
       "      <td>White</td>\n",
       "      <td>1</td>\n",
       "      <td>36.0</td>\n",
       "      <td>3.0</td>\n",
       "      <td>GL</td>\n",
       "      <td>0.09</td>\n",
       "      <td>0.735714</td>\n",
       "      <td>1.0</td>\n",
       "    </tr>\n",
       "    <tr>\n",
       "      <th>2</th>\n",
       "      <td>2</td>\n",
       "      <td>White</td>\n",
       "      <td>2</td>\n",
       "      <td>30.0</td>\n",
       "      <td>3.1</td>\n",
       "      <td>MS</td>\n",
       "      <td>-0.35</td>\n",
       "      <td>0.670238</td>\n",
       "      <td>1.0</td>\n",
       "    </tr>\n",
       "    <tr>\n",
       "      <th>3</th>\n",
       "      <td>5</td>\n",
       "      <td>Hispanic</td>\n",
       "      <td>2</td>\n",
       "      <td>39.0</td>\n",
       "      <td>2.2</td>\n",
       "      <td>NE</td>\n",
       "      <td>0.58</td>\n",
       "      <td>0.697024</td>\n",
       "      <td>1.0</td>\n",
       "    </tr>\n",
       "    <tr>\n",
       "      <th>4</th>\n",
       "      <td>6</td>\n",
       "      <td>White</td>\n",
       "      <td>1</td>\n",
       "      <td>37.0</td>\n",
       "      <td>3.4</td>\n",
       "      <td>GL</td>\n",
       "      <td>-1.26</td>\n",
       "      <td>0.786310</td>\n",
       "      <td>1.0</td>\n",
       "    </tr>\n",
       "  </tbody>\n",
       "</table>\n",
       "</div>"
      ],
      "text/plain": [
       "   Unnamed: 0      race  sex  LSAT  UGPA region_first  ZFYA  sander_index   \n",
       "0           0     White    1  39.0   3.1           GL -0.98      0.782738  \\\n",
       "1           1     White    1  36.0   3.0           GL  0.09      0.735714   \n",
       "2           2     White    2  30.0   3.1           MS -0.35      0.670238   \n",
       "3           5  Hispanic    2  39.0   2.2           NE  0.58      0.697024   \n",
       "4           6     White    1  37.0   3.4           GL -1.26      0.786310   \n",
       "\n",
       "   first_pf  \n",
       "0       1.0  \n",
       "1       1.0  \n",
       "2       1.0  \n",
       "3       1.0  \n",
       "4       1.0  "
      ]
     },
     "execution_count": 2,
     "metadata": {},
     "output_type": "execute_result"
    }
   ],
   "source": [
    "# loading data\n",
    "base_path = 'Fair-ML-Causal-Inference'\n",
    "law_path = os.path.join('~', base_path, 'data', 'law_data.csv')\n",
    "data = pd.read_csv(law_path)\n",
    "\n",
    "data.head()"
   ]
  },
  {
   "cell_type": "markdown",
   "metadata": {},
   "source": [
    "### Prepping Data\n",
    "\n",
    "Remove any problem observations and select features the researchers used"
   ]
  },
  {
   "cell_type": "code",
   "execution_count": 3,
   "metadata": {},
   "outputs": [
    {
     "data": {
      "text/plain": [
       "region_first\n",
       "NE    4302\n",
       "GL    3822\n",
       "FW    2904\n",
       "SE    2651\n",
       "MS    2346\n",
       "SC    2251\n",
       "Mt    1147\n",
       "NG    1133\n",
       "MW    1071\n",
       "NW     163\n",
       "PO       1\n",
       "Name: count, dtype: int64"
      ]
     },
     "metadata": {},
     "output_type": "display_data"
    }
   ],
   "source": [
    "# remove observations low sample size observations\n",
    "display(data['region_first'].value_counts())\n",
    "data = data.loc[data['region_first'] != 'PO']"
   ]
  },
  {
   "cell_type": "code",
   "execution_count": 4,
   "metadata": {},
   "outputs": [
    {
     "name": "stdout",
     "output_type": "stream",
     "text": [
      "<class 'pandas.core.frame.DataFrame'>\n",
      "Index: 21790 entries, 0 to 21790\n",
      "Data columns (total 5 columns):\n",
      " #   Column  Non-Null Count  Dtype  \n",
      "---  ------  --------------  -----  \n",
      " 0   race    21790 non-null  object \n",
      " 1   sex     21790 non-null  int64  \n",
      " 2   LSAT    21790 non-null  float64\n",
      " 3   UGPA    21790 non-null  float64\n",
      " 4   ZFYA    21790 non-null  float64\n",
      "dtypes: float64(3), int64(1), object(1)\n",
      "memory usage: 1021.4+ KB\n"
     ]
    }
   ],
   "source": [
    "# keep features used by researchers\n",
    "cols_keep = ['race', 'sex', 'LSAT', 'UGPA', 'ZFYA'] \n",
    "law_data = data[cols_keep]\n",
    "law_data.info()"
   ]
  },
  {
   "cell_type": "markdown",
   "metadata": {},
   "source": [
    "### OHE\n",
    "\n",
    "One Hot Encode the categorical data so it can be used for regression"
   ]
  },
  {
   "cell_type": "code",
   "execution_count": 5,
   "metadata": {},
   "outputs": [
    {
     "data": {
      "text/plain": [
       "race\n",
       "White          18284\n",
       "Black           1282\n",
       "Asian            845\n",
       "Hispanic         488\n",
       "Mexican          389\n",
       "Other            293\n",
       "Puertorican      110\n",
       "Amerindian        99\n",
       "Name: count, dtype: int64"
      ]
     },
     "metadata": {},
     "output_type": "display_data"
    },
    {
     "data": {
      "text/plain": [
       "sex\n",
       "2    12253\n",
       "1     9537\n",
       "Name: count, dtype: int64"
      ]
     },
     "metadata": {},
     "output_type": "display_data"
    }
   ],
   "source": [
    "# visualize the distributions for our OHE features\n",
    "display(law_data['race'].value_counts(), law_data['sex'].value_counts())\n",
    "\n",
    "# convert sex to category\n",
    "law_data.loc[:,'sex'] = np.where(law_data['sex'] == 1, 'Female', 'Male')"
   ]
  },
  {
   "cell_type": "code",
   "execution_count": 6,
   "metadata": {},
   "outputs": [
    {
     "name": "stderr",
     "output_type": "stream",
     "text": [
      "/accounts/grad/khern045/.local/lib/python3.11/site-packages/sklearn/preprocessing/_encoders.py:975: FutureWarning: `sparse` was renamed to `sparse_output` in version 1.2 and will be removed in 1.4. `sparse_output` is ignored unless you leave `sparse` to its default value.\n",
      "  warnings.warn(\n",
      "/accounts/grad/khern045/.local/lib/python3.11/site-packages/sklearn/preprocessing/_encoders.py:975: FutureWarning: `sparse` was renamed to `sparse_output` in version 1.2 and will be removed in 1.4. `sparse_output` is ignored unless you leave `sparse` to its default value.\n",
      "  warnings.warn(\n"
     ]
    }
   ],
   "source": [
    "# split the data first to avoid data leakage\n",
    "train, test = train_test_split(law_data, train_size=0.8, random_state=256)\n",
    "\n",
    "# explicit categories and their unique values\n",
    "categories = [('sex', list(law_data['sex'].unique())),\n",
    "              ('race', list(law_data['race'].unique()))]\n",
    "\n",
    "# denote column name and the unique categories as variables\n",
    "ohe_columns = [x[0] for x in categories]\n",
    "ohe_categories = [x[1] for x in categories]\n",
    "\n",
    "# initialize OHE\n",
    "enc = OneHotEncoder(sparse=False, categories=ohe_categories, )\n",
    "\n",
    "# fit and transform the train\n",
    "train_trans = pd.DataFrame(\n",
    "    enc.fit_transform(train[ohe_columns]),\n",
    "    columns = enc.get_feature_names_out(),\n",
    "    index = train.index\n",
    ")\n",
    "# concatenate transformed cols with non transformed\n",
    "train_trans = pd.concat([train.drop(ohe_columns, axis=1), train_trans], axis=1).reset_index(drop=True)\n",
    "# remove the prefix the default encoding gives\n",
    "train_trans.columns = [col.split('_')[1] if '_' in col else col for col in train_trans.columns]\n",
    "\n",
    "# apply same transformation to test data\n",
    "test_trans = pd.DataFrame(\n",
    "    enc.fit_transform(test[ohe_columns]),\n",
    "    columns = enc.get_feature_names_out(),\n",
    "    index = test.index\n",
    ")\n",
    "# concetenate trans cols with non trans, reset index\n",
    "test_trans = pd.concat([test.drop(ohe_columns, axis=1) ,test_trans], axis=1).reset_index(drop=True)\n",
    "test_trans.columns = [col.split('_')[1] if '_' in col else col for col in test_trans.columns]\n"
   ]
  },
  {
   "cell_type": "code",
   "execution_count": 7,
   "metadata": {},
   "outputs": [],
   "source": [
    "# round data to whole numbers to prep it for Poisson (only accepts integers)\n",
    "train_trans['LSAT'] = train_trans['LSAT'].round()\n",
    "test_trans['LSAT'] = test_trans['LSAT'].round()\n",
    "\n",
    "# convert to tensors so its compatible with pytorch\n",
    "X_train, y_train = torch.tensor(train_trans.drop(['ZFYA'], axis=1).values, dtype=torch.float32), torch.tensor(train_trans['ZFYA'], dtype=torch.float32) \n",
    "X_test, y_test = torch.tensor(test_trans.drop(['ZFYA'], axis=1).values, dtype=torch.float32), torch.tensor(test_trans['ZFYA'], dtype=torch.float32) "
   ]
  },
  {
   "cell_type": "markdown",
   "metadata": {},
   "source": [
    "### Linear Model"
   ]
  },
  {
   "cell_type": "code",
   "execution_count": 8,
   "metadata": {},
   "outputs": [],
   "source": [
    "# object to allow use of dataloader\n",
    "class Dataset(torch.utils.data.Dataset):\n",
    "     def __init__(self, dataframe):\n",
    "          self.dataframe = dataframe\n",
    "      \n",
    "     def __len__(self):\n",
    "          return self.dataframe.shape[0]\n",
    "     \n",
    "     def __getitem__(self, idx):\n",
    "          x = torch.tensor(self.dataframe.drop(['ZFYA'], axis=1).loc[idx,:].values, dtype=torch.float32)\n",
    "          y = torch.tensor(self.dataframe.loc[idx, 'ZFYA'], dtype=torch.float32)\n",
    "          return x,y"
   ]
  },
  {
   "cell_type": "code",
   "execution_count": 9,
   "metadata": {},
   "outputs": [],
   "source": [
    "# class inherits form a class called nn.Module\n",
    "class LinearRegressionModel(nn.Module):\n",
    "    # initialization method for new class\n",
    "    def __init__(self, input_size, output_size):\n",
    "        # first thing always do is call initialization method from the parent class, nn.module\n",
    "        super().__init__()\n",
    "\n",
    "        # fully connected linear layer\n",
    "        self.fc1 = nn.Linear(input_size, output_size)\n",
    "\n",
    "    def forward(self, x):\n",
    "        # run the linear layer\n",
    "        output = self.fc1(x)\n",
    "\n",
    "        return output\n",
    "    \n",
    "# evaluate models performance\n",
    "def evaluate(model, X_train, y_test):\n",
    "    # Make predictions\n",
    "    with torch.no_grad(): # disable gradient computation\n",
    "        predictions = model(X_train).squeeze()\n",
    "\n",
    "    # Calculate RMSE\n",
    "    mse = torch.nn.functional.mse_loss(predictions, y_test)\n",
    "    rmse = np.sqrt(mse.item())\n",
    "\n",
    "    return rmse\n",
    "\n",
    "def train(network, train_dataset, test_dataset, file_name_model, n_epochs=10, batch_size = 25):\n",
    "    assert isinstance(file_name_model, str), \"The filename is not a string\"\n",
    "    \n",
    "    data_loader = torch.utils.data.DataLoader(Dataset(train_dataset), batch_size = batch_size, shuffle=True)\n",
    "    \n",
    "    X_test = torch.tensor(test_dataset.drop(['ZFYA'], axis=1).values, dtype=torch.float32)\n",
    "    y_test = torch.tensor(test_dataset['ZFYA'], dtype=torch.float32)\n",
    "    \n",
    "    # Move network to GPU if available\n",
    "    network = network.to(torch.device(\"cuda\" if torch.cuda.is_available() else \"cpu\"))\n",
    "\n",
    "    # define optimizer\n",
    "    optimizer = torch.optim.Adam(network.parameters())\n",
    "\n",
    "    # best validation score initialization \n",
    "    validation_score_best = float('inf')\n",
    "    train_losses = []\n",
    "    validation_scores = []\n",
    "\n",
    "    # train loop\n",
    "    for epoch in range(n_epochs):\n",
    "        epoch_loss = 0.0\n",
    "        for batch in tqdm(data_loader, leave=False):\n",
    "            # unpack batch\n",
    "            X, y = batch\n",
    "\n",
    "            # zero parameter gradients\n",
    "            optimizer.zero_grad()\n",
    "            \n",
    "            # forward pass to get input\n",
    "            # output is of shape [20,1] but we want of size [20] to compare \n",
    "            output = network(X).squeeze()\n",
    "\n",
    "            # calculate loss\n",
    "            loss = nn.MSELoss()(output, y)\n",
    "            epoch_loss += loss.item()\n",
    "            # root_loss = torch.sqrt(loss)\n",
    "            \n",
    "            # backward pass and optimize\n",
    "            loss.backward()\n",
    "            optimizer.step() # update model parameters\n",
    "        \n",
    "        avg_epoch_loss = epoch_loss / len(data_loader)  # Average loss per epoch\n",
    "        train_losses.append(avg_epoch_loss)  # Append average epoch loss\n",
    "        \n",
    "        validation_score = evaluate(network, X_test, y_test) # evaluation mode\n",
    "        validation_scores.append(validation_score)\n",
    "        if epoch % 5 == 0:\n",
    "            print(f'Epoch {epoch+1}, validation score: {validation_score}')\n",
    "        network.train() # back to train mode\n",
    "\n",
    "        if validation_score < validation_score_best:\n",
    "            validation_score_best = validation_score\n",
    "            torch.save(network.state_dict(), file_name_model+'.pt') \n",
    "            \n",
    "    print(f'Best validation score:{validation_score_best}')\n",
    "    return validation_scores, train_losses"
   ]
  },
  {
   "cell_type": "markdown",
   "metadata": {},
   "source": [
    "### Full Model\n",
    "\n",
    "Implements the unfair full model which includes all features"
   ]
  },
  {
   "cell_type": "code",
   "execution_count": 10,
   "metadata": {},
   "outputs": [
    {
     "data": {
      "text/plain": [
       "<All keys matched successfully>"
      ]
     },
     "execution_count": 10,
     "metadata": {},
     "output_type": "execute_result"
    }
   ],
   "source": [
    "# create and train model\n",
    "full_model = LinearRegressionModel(train_trans.shape[1]-1, 1)\n",
    "full_model.load_state_dict(torch.load('full_model.pt'))\n",
    "# full_validation_scores, full_train_losses = train(full_model, train_trans, test_trans, 'full_model', n_epochs=15, batch_size=20)"
   ]
  },
  {
   "cell_type": "markdown",
   "metadata": {},
   "source": [
    "### Unaware Model\n",
    "\n",
    "Implements the FTU model "
   ]
  },
  {
   "cell_type": "code",
   "execution_count": 11,
   "metadata": {},
   "outputs": [
    {
     "data": {
      "text/plain": [
       "<All keys matched successfully>"
      ]
     },
     "execution_count": 11,
     "metadata": {},
     "output_type": "execute_result"
    }
   ],
   "source": [
    "protected_attributes = ['Female', 'Male', 'White', 'Hispanic', 'Asian', 'Black', 'Other', 'Mexican', 'Puertorican', 'Amerindian']\n",
    "\n",
    "train_unaware = train_trans.drop(protected_attributes, axis=1)\n",
    "test_unaware = test_trans.drop(protected_attributes, axis=1)\n",
    "\n",
    "unaware_model = LinearRegressionModel(train_unaware.shape[1]-1, 1)\n",
    "unaware_model.load_state_dict(torch.load('unaware_model.pt'))\n",
    "# unaware_validation_scores, unaware_train_losses = train(unaware_model, train_unaware, test_unaware, 'unaware_model', n_epochs=15, batch_size=20)"
   ]
  },
  {
   "cell_type": "markdown",
   "metadata": {},
   "source": [
    "### Fair K\n",
    "\n",
    "Fair K introduces a background latend variables, K, which are not decendants of protected demographic factors. Information about X is passed to $\\hat{Y}$ via $P(K|x,a)$\n",
    "\n",
    "If we can't calculate P_M(K|x,a) analytically use the following algorithm:\n",
    "\n",
    "\n",
    "\n",
    "START Procedure FAIRLEARNING($D,M$)\n",
    "\n",
    "1. For each datapoint $i \\in D$, sample $m$ MCMC samples $K_1^{(i)}, \\cdots, K_1^{(i)} \\sim P_M(K | x^{(i)}, a^{(i)})$\n",
    "2. Let $D'$ be the augmentd dataset where each ponit $(a^{(i)}, x^{(i)}, y^{(i)})$ in $D$ is replaced with the corresponding $m$ points ${ (a^{(i)}, x^{(i)}, y^{(i)}, k_j^{(i)}) }$\n",
    "3. $\\hat{\\theta} \\leftarrow argmin_\\theta \\sum_{i’ \\in D’} l(y^{(i’)}, g_\\theta(K^{(i’)}, x^{(i’)}_{\\ A}))$\n",
    "\n",
    "END procedure\n",
    "\n",
    "\n",
    "To solve 1 of the FAIRLEARNING we can use bayes $P(A|B) = P(B|A)P(A) / P(B)$. \n",
    "\n",
    "In our scenario, $P(K∣GPA,LSAT,FYA,Race,Sex)$ is the posterior distribution of $K$. \n",
    "\n",
    "$P(GPA,LSAT,FYA∣K,Race,Sex)$ is the likelihood of observing the data given $K$. \n",
    "\n",
    "$P(K)$ is the prior distribution of $K$, representing our beliefs about $K$ before observing the data. \n",
    "\n",
    "$P(GPA,LSAT,FYA,Race,Sex)$ is the evidence, or the probability of observing the data under all possible values of $K$.\n",
    "\n",
    "We can then sample from our posterior using MCMC\n",
    "\n",
    "\n",
    "\n",
    "\n",
    "In the FAIRLEARNING algorithm, the augmented dataset {(a(i),x(i),y(i),uj(i))} includes all these variables, but the key aspect is how they are used. The model g_\\theta(U(i),xA(i))typically uses the inferred latent variables U(i) (in this case, K values from K_list_train) and the non-protected attributes A(i)​ to predict the outcome Y. The protected attributes A (like race and sex in your model) are not directly used in the prediction to ensure fairness; instead, their effect is mediated through the latent variables. This approach aims to make predictions based on factors like knowledge while accounting for potential biases in the observed data."
   ]
  },
  {
   "cell_type": "code",
   "execution_count": null,
   "metadata": {},
   "outputs": [],
   "source": [
    "\n",
    "def FairKModel(R, S,num_observations, GPA=None, LSAT=None, FYA=None):\n",
    "    num_race_cats = len(law_data['race'].unique())\n",
    "    num_sex_cats = len(law_data['sex'].unique())    \n",
    "\n",
    "    # 0,1 vectors for the normal distribution\n",
    "    # R and S are matrices\n",
    "    r0_vec = torch.zeros(num_race_cats)\n",
    "    s0_vec = torch.zeros(num_sex_cats)\n",
    "    r1_vec = torch.ones(num_race_cats)\n",
    "    s1_vec = torch.ones(num_sex_cats)\n",
    "\n",
    "    # prior latent variable 'K' (knowledge)\n",
    "    K = pyro.sample('K', dist.Normal(torch.tensor(0.), torch.tensor(1.)))\n",
    "\n",
    "    # priors for weights and baselines for GPA, LSAT and FYA\n",
    "    # GPA ~ N(b_G  + w_G^K K + w_G^R R + w_G^S S, \\sigma_G)\n",
    "    b_G = pyro.sample('b_G', dist.Normal(torch.tensor(0.), torch.tensor(1.)))\n",
    "    w_G_K = pyro.sample('w_G_K', dist.Normal(torch.tensor(0.), torch.tensor(1.)))\n",
    "    w_G_R = pyro.sample('w_G_R', dist.Normal(r0_vec,r1_vec)) # outputs a vec of normals of len(race)\n",
    "    w_G_S = pyro.sample('w_G_S', dist.Normal(s0_vec,s1_vec)) # outputs a vec of normals of len(sex)\n",
    "    sigma_G = pyro.sample('sigma_G', dist.InverseGamma(torch.tensor(1.), torch.tensor(1.)))\n",
    "\n",
    "    # LSAT ~ Poisson(exp( b_L +w_L^K K + w_L^R R + w_L^S S))\n",
    "    b_L = pyro.sample('b_L', dist.Normal(torch.tensor(0.), torch.tensor(1.)))\n",
    "    w_L_K = pyro.sample('w_L_K', dist.Normal(torch.tensor(0.), torch.tensor(1.)))\n",
    "    w_L_R = pyro.sample('w_L_R', dist.Normal(r0_vec,r1_vec))\n",
    "    w_L_S = pyro.sample('w_L_S', dist.Normal(s0_vec,s1_vec))\n",
    "\n",
    "    # FYA ~ N(w_F^K K + w_F^R R + w_F^S S, 1)\n",
    "    w_F_K = pyro.sample('w_F_K', dist.Normal(torch.tensor(0.), torch.tensor(1.)))\n",
    "    w_F_R = pyro.sample('w_F_R', dist.Normal(r0_vec,r1_vec))\n",
    "    w_F_S = pyro.sample('w_F_S', dist.Normal(s0_vec,s1_vec))\n",
    "\n",
    "    # Calculate the parameters values of the data generating distributions\n",
    "    # print(len(b_G))\n",
    "    # print(len(w_G_K * K))\n",
    "    # print((torch.matmul(w_G_R, R.transpose(0,1))).shape)\n",
    "    # # w 1 x num_col_race\n",
    "    # # R len_race x num_col_race\n",
    "    # print((torch.matmul(w_G_S, S)).shape)\n",
    "\n",
    "    mu_G = b_G + w_G_K * K + torch.matmul(w_G_R, R.transpose(0,1)) + torch.matmul(w_G_S, S.transpose(0,1))\n",
    "    lambda_L = b_L + w_L_K * K + torch.matmul(w_L_R, R.transpose(0,1)) + torch.matmul(w_L_S, S.transpose(0,1))\n",
    "    mu_F = w_F_K * K + torch.matmul(w_F_R, R.transpose(0,1)) + torch.matmul(w_F_S, S.transpose(0,1))\n",
    "\n",
    "    # sample observed data\n",
    "    # pyro.plate is to denote independent observations and for vectorized computation\n",
    "    # use if dealing with multiple observations\n",
    "    # num_observations ensures models LH calculations are performed across all datapoints\n",
    "    with pyro.plate('data', num_observations):\n",
    "        # gives likelihood of observed data given model parameters\n",
    "        gpa = pyro.sample('gpa', dist.Normal(mu_G, sigma_G), obs=GPA) # obs is observed\n",
    "        lsat = pyro.sample('lsat', dist.Poisson(lambda_L.exp()), obs=LSAT)\n",
    "        fya = pyro.sample('fya', dist.Normal(mu_F, torch.tensor(1.)), obs=FYA)\n",
    "\n",
    "    return gpa, lsat, fya"
   ]
  },
  {
   "cell_type": "code",
   "execution_count": 13,
   "metadata": {},
   "outputs": [
    {
     "data": {
      "image/svg+xml": [
       "<?xml version=\"1.0\" encoding=\"UTF-8\" standalone=\"no\"?>\n",
       "<!DOCTYPE svg PUBLIC \"-//W3C//DTD SVG 1.1//EN\"\n",
       " \"http://www.w3.org/Graphics/SVG/1.1/DTD/svg11.dtd\">\n",
       "<!-- Generated by graphviz version 2.43.0 (0)\n",
       " -->\n",
       "<!-- Title: %3 Pages: 1 -->\n",
       "<svg width=\"1444pt\" height=\"367pt\"\n",
       " viewBox=\"0.00 0.00 1443.95 367.00\" xmlns=\"http://www.w3.org/2000/svg\" xmlns:xlink=\"http://www.w3.org/1999/xlink\">\n",
       "<g id=\"graph0\" class=\"graph\" transform=\"scale(1 1) rotate(0) translate(4 363)\">\n",
       "<title>%3</title>\n",
       "<polygon fill=\"white\" stroke=\"transparent\" points=\"-4,4 -4,-363 1439.95,-363 1439.95,4 -4,4\"/>\n",
       "<g id=\"clust1\" class=\"cluster\">\n",
       "<title>cluster_data</title>\n",
       "<polygon fill=\"none\" stroke=\"black\" points=\"594.95,-8 594.95,-83 812.95,-83 812.95,-8 594.95,-8\"/>\n",
       "<text text-anchor=\"middle\" x=\"788.95\" y=\"-15.8\" font-family=\"Times,serif\" font-size=\"14.00\">data</text>\n",
       "</g>\n",
       "<!-- K -->\n",
       "<g id=\"node1\" class=\"node\">\n",
       "<title>K</title>\n",
       "<ellipse fill=\"white\" stroke=\"black\" cx=\"789.95\" cy=\"-235\" rx=\"27\" ry=\"18\"/>\n",
       "<text text-anchor=\"middle\" x=\"789.95\" y=\"-231.3\" font-family=\"Times,serif\" font-size=\"14.00\">K</text>\n",
       "</g>\n",
       "<!-- gpa -->\n",
       "<g id=\"node14\" class=\"node\">\n",
       "<title>gpa</title>\n",
       "<ellipse fill=\"gray\" stroke=\"black\" cx=\"630.95\" cy=\"-57\" rx=\"27.9\" ry=\"18\"/>\n",
       "<text text-anchor=\"middle\" x=\"630.95\" y=\"-53.3\" font-family=\"Times,serif\" font-size=\"14.00\">gpa</text>\n",
       "</g>\n",
       "<!-- K&#45;&gt;gpa -->\n",
       "<g id=\"edge5\" class=\"edge\">\n",
       "<title>K&#45;&gt;gpa</title>\n",
       "<path fill=\"none\" stroke=\"black\" d=\"M789.75,-216.83C788.51,-190.52 782.3,-140.22 753.95,-111 725.95,-82.15 704.06,-100.65 667.95,-83 664.29,-81.21 660.58,-79.11 656.98,-76.89\"/>\n",
       "<polygon fill=\"black\" stroke=\"black\" points=\"658.68,-73.82 648.4,-71.26 654.84,-79.67 658.68,-73.82\"/>\n",
       "</g>\n",
       "<!-- lsat -->\n",
       "<g id=\"node15\" class=\"node\">\n",
       "<title>lsat</title>\n",
       "<ellipse fill=\"gray\" stroke=\"black\" cx=\"704.95\" cy=\"-57\" rx=\"27.9\" ry=\"18\"/>\n",
       "<text text-anchor=\"middle\" x=\"704.95\" y=\"-53.3\" font-family=\"Times,serif\" font-size=\"14.00\">lsat</text>\n",
       "</g>\n",
       "<!-- K&#45;&gt;lsat -->\n",
       "<g id=\"edge10\" class=\"edge\">\n",
       "<title>K&#45;&gt;lsat</title>\n",
       "<path fill=\"none\" stroke=\"black\" d=\"M787.46,-216.72C783.36,-191.98 773.58,-145.65 753.95,-111 747.29,-99.25 737.55,-87.99 728.5,-78.9\"/>\n",
       "<polygon fill=\"black\" stroke=\"black\" points=\"730.78,-76.23 721.15,-71.81 725.92,-81.27 730.78,-76.23\"/>\n",
       "</g>\n",
       "<!-- fya -->\n",
       "<g id=\"node16\" class=\"node\">\n",
       "<title>fya</title>\n",
       "<ellipse fill=\"gray\" stroke=\"black\" cx=\"777.95\" cy=\"-57\" rx=\"27\" ry=\"18\"/>\n",
       "<text text-anchor=\"middle\" x=\"777.95\" y=\"-53.3\" font-family=\"Times,serif\" font-size=\"14.00\">fya</text>\n",
       "</g>\n",
       "<!-- K&#45;&gt;fya -->\n",
       "<g id=\"edge14\" class=\"edge\">\n",
       "<title>K&#45;&gt;fya</title>\n",
       "<path fill=\"none\" stroke=\"black\" d=\"M788.77,-216.8C786.68,-186.1 782.29,-121.64 779.79,-84.99\"/>\n",
       "<polygon fill=\"black\" stroke=\"black\" points=\"783.28,-84.75 779.11,-75.01 776.29,-85.22 783.28,-84.75\"/>\n",
       "</g>\n",
       "<!-- b_G -->\n",
       "<g id=\"node2\" class=\"node\">\n",
       "<title>b_G</title>\n",
       "<ellipse fill=\"white\" stroke=\"black\" cx=\"246.95\" cy=\"-235\" rx=\"28.7\" ry=\"18\"/>\n",
       "<text text-anchor=\"middle\" x=\"246.95\" y=\"-231.3\" font-family=\"Times,serif\" font-size=\"14.00\">b_G</text>\n",
       "</g>\n",
       "<!-- b_G&#45;&gt;gpa -->\n",
       "<g id=\"edge6\" class=\"edge\">\n",
       "<title>b_G&#45;&gt;gpa</title>\n",
       "<path fill=\"none\" stroke=\"black\" d=\"M246.73,-216.67C247.41,-189.67 252.97,-137.9 283.95,-111 329.52,-71.42 512.36,-61.36 592.73,-58.83\"/>\n",
       "<polygon fill=\"black\" stroke=\"black\" points=\"593.02,-62.33 602.91,-58.54 592.81,-55.33 593.02,-62.33\"/>\n",
       "</g>\n",
       "<!-- w_G_K -->\n",
       "<g id=\"node3\" class=\"node\">\n",
       "<title>w_G_K</title>\n",
       "<ellipse fill=\"white\" stroke=\"black\" cx=\"334.95\" cy=\"-235\" rx=\"41.69\" ry=\"18\"/>\n",
       "<text text-anchor=\"middle\" x=\"334.95\" y=\"-231.3\" font-family=\"Times,serif\" font-size=\"14.00\">w_G_K</text>\n",
       "</g>\n",
       "<!-- w_G_K&#45;&gt;gpa -->\n",
       "<g id=\"edge2\" class=\"edge\">\n",
       "<title>w_G_K&#45;&gt;gpa</title>\n",
       "<path fill=\"none\" stroke=\"black\" d=\"M336.88,-216.76C340.84,-189.88 352.46,-138.27 384.95,-111 416.18,-84.78 532.7,-68.61 593.49,-61.78\"/>\n",
       "<polygon fill=\"black\" stroke=\"black\" points=\"593.9,-65.26 603.46,-60.69 593.13,-58.3 593.9,-65.26\"/>\n",
       "</g>\n",
       "<!-- w_G_R -->\n",
       "<g id=\"node4\" class=\"node\">\n",
       "<title>w_G_R</title>\n",
       "<ellipse fill=\"white\" stroke=\"black\" cx=\"435.95\" cy=\"-235\" rx=\"41.69\" ry=\"18\"/>\n",
       "<text text-anchor=\"middle\" x=\"435.95\" y=\"-231.3\" font-family=\"Times,serif\" font-size=\"14.00\">w_G_R</text>\n",
       "</g>\n",
       "<!-- w_G_R&#45;&gt;gpa -->\n",
       "<g id=\"edge1\" class=\"edge\">\n",
       "<title>w_G_R&#45;&gt;gpa</title>\n",
       "<path fill=\"none\" stroke=\"black\" d=\"M438.42,-216.84C443.08,-190.56 455.59,-140.29 485.95,-111 515.45,-82.53 561.45,-69.16 593.71,-63.01\"/>\n",
       "<polygon fill=\"black\" stroke=\"black\" points=\"594.43,-66.44 603.67,-61.26 593.21,-59.55 594.43,-66.44\"/>\n",
       "</g>\n",
       "<!-- w_G_S -->\n",
       "<g id=\"node5\" class=\"node\">\n",
       "<title>w_G_S</title>\n",
       "<ellipse fill=\"white\" stroke=\"black\" cx=\"40.95\" cy=\"-235\" rx=\"40.89\" ry=\"18\"/>\n",
       "<text text-anchor=\"middle\" x=\"40.95\" y=\"-231.3\" font-family=\"Times,serif\" font-size=\"14.00\">w_G_S</text>\n",
       "</g>\n",
       "<!-- w_G_S&#45;&gt;gpa -->\n",
       "<g id=\"edge4\" class=\"edge\">\n",
       "<title>w_G_S&#45;&gt;gpa</title>\n",
       "<path fill=\"none\" stroke=\"black\" d=\"M42.47,-216.75C45.88,-189.38 56.77,-136.51 90.95,-111 131.02,-81.08 476.23,-64.33 592.73,-59.49\"/>\n",
       "<polygon fill=\"black\" stroke=\"black\" points=\"593.11,-62.97 602.96,-59.07 592.82,-55.98 593.11,-62.97\"/>\n",
       "</g>\n",
       "<!-- sigma_G -->\n",
       "<g id=\"node6\" class=\"node\">\n",
       "<title>sigma_G</title>\n",
       "<ellipse fill=\"white\" stroke=\"black\" cx=\"149.95\" cy=\"-235\" rx=\"50.09\" ry=\"18\"/>\n",
       "<text text-anchor=\"middle\" x=\"149.95\" y=\"-231.3\" font-family=\"Times,serif\" font-size=\"14.00\">sigma_G</text>\n",
       "</g>\n",
       "<!-- sigma_G&#45;&gt;gpa -->\n",
       "<g id=\"edge3\" class=\"edge\">\n",
       "<title>sigma_G&#45;&gt;gpa</title>\n",
       "<path fill=\"none\" stroke=\"black\" d=\"M152.84,-216.77C158.41,-189.44 173.39,-136.61 208.95,-111 269.89,-67.1 500.49,-59.5 592.6,-58.23\"/>\n",
       "<polygon fill=\"black\" stroke=\"black\" points=\"592.91,-61.73 602.87,-58.11 592.83,-54.73 592.91,-61.73\"/>\n",
       "</g>\n",
       "<!-- b_L -->\n",
       "<g id=\"node7\" class=\"node\">\n",
       "<title>b_L</title>\n",
       "<ellipse fill=\"white\" stroke=\"black\" cx=\"619.95\" cy=\"-235\" rx=\"27\" ry=\"18\"/>\n",
       "<text text-anchor=\"middle\" x=\"619.95\" y=\"-231.3\" font-family=\"Times,serif\" font-size=\"14.00\">b_L</text>\n",
       "</g>\n",
       "<!-- b_L&#45;&gt;lsat -->\n",
       "<g id=\"edge8\" class=\"edge\">\n",
       "<title>b_L&#45;&gt;lsat</title>\n",
       "<path fill=\"none\" stroke=\"black\" d=\"M622.43,-216.72C626.54,-191.98 636.31,-145.65 655.95,-111 662.61,-99.25 672.35,-87.99 681.39,-78.9\"/>\n",
       "<polygon fill=\"black\" stroke=\"black\" points=\"683.98,-81.27 688.75,-71.81 679.12,-76.23 683.98,-81.27\"/>\n",
       "</g>\n",
       "<!-- w_L_K -->\n",
       "<g id=\"node8\" class=\"node\">\n",
       "<title>w_L_K</title>\n",
       "<ellipse fill=\"white\" stroke=\"black\" cx=\"704.95\" cy=\"-235\" rx=\"40.09\" ry=\"18\"/>\n",
       "<text text-anchor=\"middle\" x=\"704.95\" y=\"-231.3\" font-family=\"Times,serif\" font-size=\"14.00\">w_L_K</text>\n",
       "</g>\n",
       "<!-- w_L_K&#45;&gt;lsat -->\n",
       "<g id=\"edge9\" class=\"edge\">\n",
       "<title>w_L_K&#45;&gt;lsat</title>\n",
       "<path fill=\"none\" stroke=\"black\" d=\"M704.95,-216.8C704.95,-186.23 704.95,-122.19 704.95,-85.46\"/>\n",
       "<polygon fill=\"black\" stroke=\"black\" points=\"708.45,-85.01 704.95,-75.01 701.45,-85.01 708.45,-85.01\"/>\n",
       "</g>\n",
       "<!-- w_L_R -->\n",
       "<g id=\"node9\" class=\"node\">\n",
       "<title>w_L_R</title>\n",
       "<ellipse fill=\"white\" stroke=\"black\" cx=\"874.95\" cy=\"-235\" rx=\"40.09\" ry=\"18\"/>\n",
       "<text text-anchor=\"middle\" x=\"874.95\" y=\"-231.3\" font-family=\"Times,serif\" font-size=\"14.00\">w_L_R</text>\n",
       "</g>\n",
       "<!-- w_L_R&#45;&gt;lsat -->\n",
       "<g id=\"edge11\" class=\"edge\">\n",
       "<title>w_L_R&#45;&gt;lsat</title>\n",
       "<path fill=\"none\" stroke=\"black\" d=\"M872.73,-216.74C868.43,-190.32 856.53,-139.88 825.95,-111 797.33,-83.98 777.24,-100.4 741.95,-83 738.3,-81.2 734.59,-79.09 731,-76.87\"/>\n",
       "<polygon fill=\"black\" stroke=\"black\" points=\"732.7,-73.8 722.42,-71.23 728.86,-79.65 732.7,-73.8\"/>\n",
       "</g>\n",
       "<!-- w_L_S -->\n",
       "<g id=\"node10\" class=\"node\">\n",
       "<title>w_L_S</title>\n",
       "<ellipse fill=\"white\" stroke=\"black\" cx=\"534.95\" cy=\"-235\" rx=\"39.79\" ry=\"18\"/>\n",
       "<text text-anchor=\"middle\" x=\"534.95\" y=\"-231.3\" font-family=\"Times,serif\" font-size=\"14.00\">w_L_S</text>\n",
       "</g>\n",
       "<!-- w_L_S&#45;&gt;lsat -->\n",
       "<g id=\"edge7\" class=\"edge\">\n",
       "<title>w_L_S&#45;&gt;lsat</title>\n",
       "<path fill=\"none\" stroke=\"black\" d=\"M537.17,-216.74C541.46,-190.32 553.36,-139.88 583.95,-111 612.56,-83.98 632.65,-100.4 667.95,-83 671.6,-81.2 675.31,-79.09 678.9,-76.87\"/>\n",
       "<polygon fill=\"black\" stroke=\"black\" points=\"681.04,-79.65 687.48,-71.23 677.2,-73.8 681.04,-79.65\"/>\n",
       "</g>\n",
       "<!-- w_F_K -->\n",
       "<g id=\"node11\" class=\"node\">\n",
       "<title>w_F_K</title>\n",
       "<ellipse fill=\"white\" stroke=\"black\" cx=\"1171.95\" cy=\"-235\" rx=\"40.09\" ry=\"18\"/>\n",
       "<text text-anchor=\"middle\" x=\"1171.95\" y=\"-231.3\" font-family=\"Times,serif\" font-size=\"14.00\">w_F_K</text>\n",
       "</g>\n",
       "<!-- w_F_K&#45;&gt;fya -->\n",
       "<g id=\"edge13\" class=\"edge\">\n",
       "<title>w_F_K&#45;&gt;fya</title>\n",
       "<path fill=\"none\" stroke=\"black\" d=\"M1170.26,-216.97C1166.62,-189.9 1155.4,-137.44 1121.95,-111 1074.97,-73.87 894.57,-62.47 815.48,-59.21\"/>\n",
       "<polygon fill=\"black\" stroke=\"black\" points=\"815.14,-55.69 805.01,-58.8 814.87,-62.69 815.14,-55.69\"/>\n",
       "</g>\n",
       "<!-- w_F_R -->\n",
       "<g id=\"node12\" class=\"node\">\n",
       "<title>w_F_R</title>\n",
       "<ellipse fill=\"white\" stroke=\"black\" cx=\"973.95\" cy=\"-235\" rx=\"40.09\" ry=\"18\"/>\n",
       "<text text-anchor=\"middle\" x=\"973.95\" y=\"-231.3\" font-family=\"Times,serif\" font-size=\"14.00\">w_F_R</text>\n",
       "</g>\n",
       "<!-- w_F_R&#45;&gt;fya -->\n",
       "<g id=\"edge12\" class=\"edge\">\n",
       "<title>w_F_R&#45;&gt;fya</title>\n",
       "<path fill=\"none\" stroke=\"black\" d=\"M971.48,-216.84C966.83,-190.54 954.33,-140.26 923.95,-111 893.89,-82.06 846.82,-68.74 814.29,-62.73\"/>\n",
       "<polygon fill=\"black\" stroke=\"black\" points=\"814.72,-59.26 804.28,-61.03 813.55,-66.16 814.72,-59.26\"/>\n",
       "</g>\n",
       "<!-- w_F_S -->\n",
       "<g id=\"node13\" class=\"node\">\n",
       "<title>w_F_S</title>\n",
       "<ellipse fill=\"white\" stroke=\"black\" cx=\"1072.95\" cy=\"-235\" rx=\"40.09\" ry=\"18\"/>\n",
       "<text text-anchor=\"middle\" x=\"1072.95\" y=\"-231.3\" font-family=\"Times,serif\" font-size=\"14.00\">w_F_S</text>\n",
       "</g>\n",
       "<!-- w_F_S&#45;&gt;fya -->\n",
       "<g id=\"edge15\" class=\"edge\">\n",
       "<title>w_F_S&#45;&gt;fya</title>\n",
       "<path fill=\"none\" stroke=\"black\" d=\"M1071.01,-216.76C1067.04,-189.89 1055.42,-138.29 1022.95,-111 991.75,-84.79 875.11,-68.56 814.71,-61.74\"/>\n",
       "<polygon fill=\"black\" stroke=\"black\" points=\"814.79,-58.23 804.47,-60.61 814.03,-65.19 814.79,-58.23\"/>\n",
       "</g>\n",
       "<!-- distribution_description_node -->\n",
       "<g id=\"node17\" class=\"node\">\n",
       "<title>distribution_description_node</title>\n",
       "<text text-anchor=\"start\" x=\"1237.95\" y=\"-343.8\" font-family=\"Times,serif\" font-size=\"14.00\">K ~ Normal</text>\n",
       "<text text-anchor=\"start\" x=\"1237.95\" y=\"-328.8\" font-family=\"Times,serif\" font-size=\"14.00\">b_G ~ Normal</text>\n",
       "<text text-anchor=\"start\" x=\"1237.95\" y=\"-313.8\" font-family=\"Times,serif\" font-size=\"14.00\">w_G_K ~ Normal</text>\n",
       "<text text-anchor=\"start\" x=\"1237.95\" y=\"-298.8\" font-family=\"Times,serif\" font-size=\"14.00\">w_G_R ~ Normal</text>\n",
       "<text text-anchor=\"start\" x=\"1237.95\" y=\"-283.8\" font-family=\"Times,serif\" font-size=\"14.00\">w_G_S ~ Normal</text>\n",
       "<text text-anchor=\"start\" x=\"1237.95\" y=\"-268.8\" font-family=\"Times,serif\" font-size=\"14.00\">sigma_G ~ InverseGamma</text>\n",
       "<text text-anchor=\"start\" x=\"1237.95\" y=\"-253.8\" font-family=\"Times,serif\" font-size=\"14.00\">b_L ~ Normal</text>\n",
       "<text text-anchor=\"start\" x=\"1237.95\" y=\"-238.8\" font-family=\"Times,serif\" font-size=\"14.00\">w_L_K ~ Normal</text>\n",
       "<text text-anchor=\"start\" x=\"1237.95\" y=\"-223.8\" font-family=\"Times,serif\" font-size=\"14.00\">w_L_R ~ Normal</text>\n",
       "<text text-anchor=\"start\" x=\"1237.95\" y=\"-208.8\" font-family=\"Times,serif\" font-size=\"14.00\">w_L_S ~ Normal</text>\n",
       "<text text-anchor=\"start\" x=\"1237.95\" y=\"-193.8\" font-family=\"Times,serif\" font-size=\"14.00\">w_F_K ~ Normal</text>\n",
       "<text text-anchor=\"start\" x=\"1237.95\" y=\"-178.8\" font-family=\"Times,serif\" font-size=\"14.00\">w_F_R ~ Normal</text>\n",
       "<text text-anchor=\"start\" x=\"1237.95\" y=\"-163.8\" font-family=\"Times,serif\" font-size=\"14.00\">w_F_S ~ Normal</text>\n",
       "<text text-anchor=\"start\" x=\"1237.95\" y=\"-148.8\" font-family=\"Times,serif\" font-size=\"14.00\">gpa ~ Normal</text>\n",
       "<text text-anchor=\"start\" x=\"1237.95\" y=\"-133.8\" font-family=\"Times,serif\" font-size=\"14.00\">lsat ~ Poisson</text>\n",
       "<text text-anchor=\"start\" x=\"1237.95\" y=\"-118.8\" font-family=\"Times,serif\" font-size=\"14.00\">fya ~ Normal</text>\n",
       "</g>\n",
       "</g>\n",
       "</svg>\n"
      ],
      "text/plain": [
       "<graphviz.graphs.Digraph at 0x7fd4f438a610>"
      ]
     },
     "execution_count": 13,
     "metadata": {},
     "output_type": "execute_result"
    }
   ],
   "source": [
    "train_tensor = torch.tensor(train_trans.values, dtype=torch.float32)\n",
    "test_tensor = torch.tensor(test_trans.values, dtype=torch.float32)\n",
    "\n",
    "# structure of FairKModel\n",
    "# generates a DAG of the model, showing how different rvs are related to each other within the model\n",
    "model_graph = pyro.render_model(\n",
    "    FairKModel, \n",
    "    model_args=(train_tensor[:,5:], train_tensor[:,3:5], train_tensor.shape[0], train_tensor[:,1], train_tensor[:,0], train_tensor[:,2]),\n",
    "    render_distributions=True, \n",
    "    render_params=True\n",
    "    )\n",
    "model_graph\n"
   ]
  },
  {
   "cell_type": "code",
   "execution_count": 14,
   "metadata": {},
   "outputs": [
    {
     "data": {
      "application/vnd.jupyter.widget-view+json": {
       "model_id": "26ed6484b0244f4fb7f8b3aa6fb9382c",
       "version_major": 2,
       "version_minor": 0
      },
      "text/plain": [
       "  0%|          | 0/17432 [00:00<?, ?it/s]"
      ]
     },
     "metadata": {},
     "output_type": "display_data"
    }
   ],
   "source": [
    "from tqdm.notebook import tqdm\n",
    "\n",
    "values_reestimate = ['b_G', 'w_G_R', 'w_G_S', 'w_G_K', 'sigma_G', 'b_L', 'w_L_R', 'w_L_S', 'w_L_K']\n",
    "\n",
    "K_list_train = []\n",
    "reestimated_params = {param: [] for param in values_reestimate}\n",
    "metrics_train = {'ESS_values':[], 'normalized_weights':[]}\n",
    "\n",
    "for i in tqdm(range(train_tensor.shape[0])):\n",
    "        # P(GPA,LSAT,FYA∣K,Race,Sex), so gpa, lsat and fya conditioned on observed data from train_tensor\n",
    "        conditioned_model = pyro.condition(FairKModel, data={\n",
    "                'gpa': train_tensor[i, 1], \n",
    "                'lsat': train_tensor[i, 0].type(torch.int32), \n",
    "                'fya': train_tensor[i, 2]})\n",
    "\n",
    "        # MCMC is too expensive to run\n",
    "        # initialize No-U-Turn Sampler a type of mcmc method\n",
    "        # nuts_kernel = pyro.infer.mcmc.NUTS(conditioned_model)\n",
    "        # sets up mcmc process using nuts kernel. draws 500 samples from the posterior and uses 500 iterations to tune the sampler\n",
    "        # mcmc = pyro.infer.MCMC(nuts_kernel, num_samples=500, warmup_steps=200, num_chains= os.cpu_count() // 2)\n",
    "\n",
    "        # Imporance sampling\n",
    "        importance = pyro.infer.Importance(conditioned_model, num_samples=10)\n",
    "\n",
    "        # executes the mcmc process\n",
    "        sampling_results = importance.run(R=train_tensor[:,5:], S=train_tensor[:,3:5], num_observations=train_tensor.shape[0]) # samples from P_M(U | x^{(i)}, a^{(i)})\n",
    "\n",
    "        # Extract weighted samples and calculate metrics\n",
    "        weighted_samples = importance.exec_traces\n",
    "        for estimate in values_reestimate:\n",
    "                values = torch.stack([trace.nodes[estimate]['value'] for trace in weighted_samples])\n",
    "                # Compute the mean for each column if it's a matrix\n",
    "                reestimated_params[estimate].append(values.mean(0) if values.ndim > 1 else values.mean())\n",
    "                \n",
    "        # obtains distribution of sampled values for K\n",
    "        marginal = pyro.infer.EmpiricalMarginal(importance, sites=\"K\")\n",
    "        K_list_train.append(marginal.mean)\n",
    "\n",
    "        # collect metrics\n",
    "        metrics_train['ESS_values'].append(importance.get_ESS())\n",
    "        metrics_train['normalized_weights'].append(importance.get_normalized_weights())\n",
    "\n",
    "with open('inferred_K_train.pkl', 'wb') as f:\n",
    "    pickle.dump({'K_values': K_list_train, 'parameters': reestimated_params, 'metrics': metrics_train}, f)"
   ]
  },
  {
   "cell_type": "markdown",
   "metadata": {},
   "source": [
    "When the sample size is 10, the ESS displays 1 for almost 492 samples. So the ESS value is 1, 99% of the time. This is a strong indicator of poor sampling efficiency. ESS Is a measure of the number of independent samples equivalent ot the correlated samples obtained from the sampling. ESS should be a significant fraction of the total number of samples. Because ESS is close to 1, it suggests the samples are highly autocorrelated and were getting little independent information from the sampling process.  \n",
    "\n",
    "Increased sample size to 100. "
   ]
  },
  {
   "cell_type": "code",
   "execution_count": 15,
   "metadata": {},
   "outputs": [
    {
     "data": {
      "text/plain": [
       "{'whiskers': [<matplotlib.lines.Line2D at 0x7fd3bf488110>,\n",
       "  <matplotlib.lines.Line2D at 0x7fd3bf4890d0>],\n",
       " 'caps': [<matplotlib.lines.Line2D at 0x7fd3bf48a410>,\n",
       "  <matplotlib.lines.Line2D at 0x7fd3bf48af50>],\n",
       " 'boxes': [<matplotlib.lines.Line2D at 0x7fd3cd9df810>],\n",
       " 'medians': [<matplotlib.lines.Line2D at 0x7fd3bf48bb90>],\n",
       " 'fliers': [<matplotlib.lines.Line2D at 0x7fd3cd9e4b50>],\n",
       " 'means': []}"
      ]
     },
     "execution_count": 15,
     "metadata": {},
     "output_type": "execute_result"
    },
    {
     "data": {
      "image/png": "[encoded data removed]",
      "text/plain": [
       "<Figure size 640x480 with 1 Axes>"
      ]
     },
     "metadata": {},
     "output_type": "display_data"
    }
   ],
   "source": [
    "hist = torch.stack(metrics_train['ESS_values']).tolist()\n",
    "plt.boxplot(hist)\n"
   ]
  },
  {
   "cell_type": "markdown",
   "metadata": {},
   "source": [
    "We create a new model so that we can estimate some parameters from the training data and use them in the test phase. This is done to capture dataset-specific nuances. We want to leverage information learned from the training data in the test phase to ensure we account for potential overfitting or biased estimates which may happen when reusing model parameters from the train. "
   ]
  },
  {
   "cell_type": "code",
   "execution_count": 16,
   "metadata": {},
   "outputs": [],
   "source": [
    "def FairKModelTest(R, S, num_observations, GPA=None, LSAT=None, FYA=None):\n",
    "    num_race_cats = len(law_data['race'].unique())\n",
    "    num_sex_cats = len(law_data['sex'].unique())    \n",
    "\n",
    "    # 0,1 vectors for the normal distribution\n",
    "    # R and S are matrices\n",
    "    r0_vec = torch.zeros(num_race_cats)\n",
    "    s0_vec = torch.zeros(num_sex_cats)\n",
    "    r1_vec = torch.ones(num_race_cats)\n",
    "    s1_vec = torch.ones(num_sex_cats)\n",
    "\n",
    "    # prior latent variable 'K' (knowledge)\n",
    "    K = pyro.sample('K', dist.Normal(torch.tensor(0.), torch.tensor(1.)))\n",
    "\n",
    "    # priors for weights and baselines for GPA, LSAT and FYA\n",
    "    # GPA ~ N(b_G  + w_G^K K + w_G^R R + w_G^S S, \\sigma_G)\n",
    "    b_G = torch.stack(reestimated_params['b_G']).mean()\n",
    "    w_G_K = torch.stack(reestimated_params['w_G_K']).mean()\n",
    "    w_G_R = torch.stack(reestimated_params['w_G_R']).mean(0)\n",
    "    w_G_S = torch.stack(reestimated_params['w_G_S']).mean(0)\n",
    "    sigma_G = torch.stack(reestimated_params['sigma_G']).mean()\n",
    "\n",
    "    # LSAT ~ Poisson(exp( b_L +w_L^K K + w_L^R R + w_L^S S))\n",
    "    b_L =torch.stack( reestimated_params['b_L']).mean()\n",
    "    w_L_K = torch.stack(reestimated_params['w_L_K']).mean()\n",
    "    w_L_R = torch.stack(reestimated_params['w_L_R']).mean(0)\n",
    "    w_L_S = torch.stack(reestimated_params['w_L_S']).mean(0)\n",
    "\n",
    "    # FYA ~ N(w_F^K K + w_F^R R + w_F^S S, 1)\n",
    "    w_F_K = pyro.sample('w_F_K', dist.Normal(torch.tensor(0.), torch.tensor(1.)))\n",
    "    w_F_R = pyro.sample('w_F_R', dist.Normal(r0_vec,r1_vec))\n",
    "    w_F_S = pyro.sample('w_F_S', dist.Normal(s0_vec,s1_vec))\n",
    "\n",
    "    # Calculate the parameters values of the data generating distributions\n",
    "    # print(len(b_G))\n",
    "    # print(len(w_G_K * K))\n",
    "    # print((torch.matmul(w_G_R, R.transpose(0,1))).shape)\n",
    "    # # w 1 x num_col_race\n",
    "    # # R len_race x num_col_race\n",
    "    # produces 1 x len_race\n",
    "    # print((torch.matmul(w_G_S, S.transpose(0,1))).shape)\n",
    "    # print(b_G.shape)\n",
    "    # print((w_G_K * K).shape)\n",
    "\n",
    "    mu_G = b_G + w_G_K * K + torch.matmul(w_G_R, R.transpose(0,1)) + torch.matmul(w_G_S, S.transpose(0,1))\n",
    "    lambda_L = b_L + w_L_K * K + torch.matmul(w_L_R, R.transpose(0,1)) + torch.matmul(w_L_S, S.transpose(0,1))\n",
    "    mu_F = w_F_K * K + torch.matmul(w_F_R, R.transpose(0,1)) + torch.matmul(w_F_S, S.transpose(0,1))\n",
    "\n",
    "    # sample observed data\n",
    "    # pyro.plate is to denote independent observations and for vectorized computation\n",
    "    # use if dealing with multiple observations\n",
    "    # num_observations ensures models LH calculations are performed across all datapoints\n",
    "    with pyro.plate('data', num_observations):\n",
    "        # gives likelihood of observed data given model parameters\n",
    "        gpa = pyro.sample('gpa', dist.Normal(mu_G, sigma_G), obs=GPA) # obs is observed\n",
    "        lsat = pyro.sample('lsat', dist.Poisson(lambda_L.exp()), obs=LSAT)\n",
    "        fya = pyro.sample('fya', dist.Normal(mu_F, torch.tensor(1.)), obs=FYA)\n",
    "\n",
    "    return gpa, lsat, fya"
   ]
  },
  {
   "cell_type": "code",
   "execution_count": 17,
   "metadata": {},
   "outputs": [
    {
     "data": {
      "application/vnd.jupyter.widget-view+json": {
       "model_id": "bbdb9259181c40c3a5259b8aff9fa4be",
       "version_major": 2,
       "version_minor": 0
      },
      "text/plain": [
       "  0%|          | 0/4358 [00:00<?, ?it/s]"
      ]
     },
     "metadata": {},
     "output_type": "display_data"
    }
   ],
   "source": [
    "from tqdm.notebook import tqdm\n",
    "\n",
    "K_list_test = []\n",
    "metrics_test = {'ESS_values':[], 'normalized_weights':[]}\n",
    "\n",
    "for i in tqdm(range(test_tensor.shape[0])):\n",
    "        # P(GPA,LSAT,FYA∣K,Race,Sex), so gpa, lsat and fya conditioned on observed data from train_tensor\n",
    "        conditioned_model = pyro.condition(FairKModelTest, data={\n",
    "                'gpa': test_tensor[i, 1], \n",
    "                'lsat': test_tensor[i, 0].type(torch.int32), \n",
    "                'fya': test_tensor[i, 2]})\n",
    "\n",
    "        # Imporance sampling\n",
    "        importance = pyro.infer.Importance(conditioned_model, num_samples=10)\n",
    "\n",
    "        # executes the mcmc process\n",
    "        sampling_results = importance.run(R=test_tensor[:,5:], S=test_tensor[:,3:5], num_observations=test_tensor.shape[0]) # samples from P_M(U | x^{(i)}, a^{(i)})\n",
    "                \n",
    "        # obtains distribution of sampled values for K\n",
    "        marginal = pyro.infer.EmpiricalMarginal(importance, sites=\"K\")\n",
    "        K_list_test.append(marginal.mean)\n",
    "\n",
    "        # collect metrics\n",
    "        metrics_test['ESS_values'].append(importance.get_ESS())\n",
    "        metrics_test['normalized_weights'].append(importance.get_normalized_weights())\n",
    "\n",
    "with open('inferred_K_test.pkl', 'wb') as f:\n",
    "    pickle.dump({'K_values': K_list_test, 'metrics': metrics_test}, f)"
   ]
  },
  {
   "cell_type": "code",
   "execution_count": 26,
   "metadata": {},
   "outputs": [],
   "source": [
    "with open('./inferred_K_train.pkl', 'rb') as f:\n",
    "  inferred_K_train = pickle.load(f)\n",
    "K_list_train = inferred_K_train['K_values']\n",
    "reestimated_params = inferred_K_train['parameters']\n",
    "metrics_train = inferred_K_train['metrics']\n",
    "\n",
    "with open('./inferred_K_test.pkl', 'rb') as f:\n",
    "  inferred_K_test = pickle.load(f)\n",
    "K_list_test = inferred_K_test['K_values']\n",
    "metrics_test = inferred_K_test['metrics']\n"
   ]
  },
  {
   "cell_type": "markdown",
   "metadata": {},
   "source": [
    "Metrics:\n",
    "\n",
    "Effective Sample Size:\n",
    "    - This metric is necessary to understand the efficiency of Importance Sampling\n",
    "    - A low ESS relative to the number of samples drawn will indicate a high autocorrelation among samples. This suggests we might need more samples to accuractly estimate the posterior\n",
    "\n",
    "Log Normalizer:\n",
    "    - This metric gives an estimate of the normalizing constant for our posterior. If P(A|B) is our posterior, the normalizing constant is P(B)\n",
    "    - We want small deviations across out iterations. If high deviation, it indicates instabiulity or issues with convergence\n",
    "\n"
   ]
  },
  {
   "cell_type": "code",
   "execution_count": 34,
   "metadata": {},
   "outputs": [
    {
     "data": {
      "image/png": "[encoded data removed]",
      "text/plain": [
       "<Figure size 700x500 with 1 Axes>"
      ]
     },
     "metadata": {},
     "output_type": "display_data"
    }
   ],
   "source": [
    "plt.figure(figsize=(7, 5))\n",
    "sns.kdeplot(np.array(K_list_train), label=\"Inferred K density\")\n",
    "sns.kdeplot(np.random.randn(10000), label=\"Standard Gaussian density\")\n",
    "plt.xlabel(\"K\")\n",
    "plt.legend()\n",
    "plt.show()"
   ]
  },
  {
   "cell_type": "markdown",
   "metadata": {},
   "source": [
    "Predict FYA"
   ]
  },
  {
   "cell_type": "code",
   "execution_count": 72,
   "metadata": {},
   "outputs": [
    {
     "data": {
      "application/vnd.jupyter.widget-view+json": {
       "model_id": "f8d89cc12aa64fc99af4d98ec0d9b876",
       "version_major": 2,
       "version_minor": 0
      },
      "text/plain": [
       "  0%|          | 0/17 [00:00<?, ?it/s]"
      ]
     },
     "metadata": {},
     "output_type": "display_data"
    },
    {
     "name": "stdout",
     "output_type": "stream",
     "text": [
      "Epoch 1, validation score: 1.062314241664065\n"
     ]
    },
    {
     "data": {
      "application/vnd.jupyter.widget-view+json": {
       "model_id": "ff0fd96bc39c4109940eed6a7bcab5b3",
       "version_major": 2,
       "version_minor": 0
      },
      "text/plain": [
       "  0%|          | 0/17 [00:00<?, ?it/s]"
      ]
     },
     "metadata": {},
     "output_type": "display_data"
    },
    {
     "data": {
      "application/vnd.jupyter.widget-view+json": {
       "model_id": "9f791dae00534beeaa173262dc2c3652",
       "version_major": 2,
       "version_minor": 0
      },
      "text/plain": [
       "  0%|          | 0/17 [00:00<?, ?it/s]"
      ]
     },
     "metadata": {},
     "output_type": "display_data"
    },
    {
     "data": {
      "application/vnd.jupyter.widget-view+json": {
       "model_id": "33077f97cc5743258dc631f9c43b1af6",
       "version_major": 2,
       "version_minor": 0
      },
      "text/plain": [
       "  0%|          | 0/17 [00:00<?, ?it/s]"
      ]
     },
     "metadata": {},
     "output_type": "display_data"
    },
    {
     "data": {
      "application/vnd.jupyter.widget-view+json": {
       "model_id": "bb5f07f87d354c5fbcedec4588b0e6e7",
       "version_major": 2,
       "version_minor": 0
      },
      "text/plain": [
       "  0%|          | 0/17 [00:00<?, ?it/s]"
      ]
     },
     "metadata": {},
     "output_type": "display_data"
    },
    {
     "data": {
      "application/vnd.jupyter.widget-view+json": {
       "model_id": "cd287751e6a44ea1b5cf34652654cd0f",
       "version_major": 2,
       "version_minor": 0
      },
      "text/plain": [
       "  0%|          | 0/17 [00:00<?, ?it/s]"
      ]
     },
     "metadata": {},
     "output_type": "display_data"
    },
    {
     "name": "stdout",
     "output_type": "stream",
     "text": [
      "Epoch 6, validation score: 1.0351596472342544\n"
     ]
    },
    {
     "data": {
      "application/vnd.jupyter.widget-view+json": {
       "model_id": "1ba737596f844403b2ace86b65dbf8ff",
       "version_major": 2,
       "version_minor": 0
      },
      "text/plain": [
       "  0%|          | 0/17 [00:00<?, ?it/s]"
      ]
     },
     "metadata": {},
     "output_type": "display_data"
    },
    {
     "data": {
      "application/vnd.jupyter.widget-view+json": {
       "model_id": "571745df839d470cbbffe750f743bc3b",
       "version_major": 2,
       "version_minor": 0
      },
      "text/plain": [
       "  0%|          | 0/17 [00:00<?, ?it/s]"
      ]
     },
     "metadata": {},
     "output_type": "display_data"
    },
    {
     "data": {
      "application/vnd.jupyter.widget-view+json": {
       "model_id": "378af9dd1a8347c5872c389f29946a2b",
       "version_major": 2,
       "version_minor": 0
      },
      "text/plain": [
       "  0%|          | 0/17 [00:00<?, ?it/s]"
      ]
     },
     "metadata": {},
     "output_type": "display_data"
    },
    {
     "data": {
      "application/vnd.jupyter.widget-view+json": {
       "model_id": "4b74e396efe3411b871cb93b049f776e",
       "version_major": 2,
       "version_minor": 0
      },
      "text/plain": [
       "  0%|          | 0/17 [00:00<?, ?it/s]"
      ]
     },
     "metadata": {},
     "output_type": "display_data"
    },
    {
     "data": {
      "application/vnd.jupyter.widget-view+json": {
       "model_id": "578ed33da08d4231946a3b01f4f011f4",
       "version_major": 2,
       "version_minor": 0
      },
      "text/plain": [
       "  0%|          | 0/17 [00:00<?, ?it/s]"
      ]
     },
     "metadata": {},
     "output_type": "display_data"
    },
    {
     "name": "stdout",
     "output_type": "stream",
     "text": [
      "Epoch 11, validation score: 1.0123970968442217\n"
     ]
    },
    {
     "data": {
      "application/vnd.jupyter.widget-view+json": {
       "model_id": "0c8b96b4cada4a58bdbaa56a5a07e959",
       "version_major": 2,
       "version_minor": 0
      },
      "text/plain": [
       "  0%|          | 0/17 [00:00<?, ?it/s]"
      ]
     },
     "metadata": {},
     "output_type": "display_data"
    },
    {
     "data": {
      "application/vnd.jupyter.widget-view+json": {
       "model_id": "d812041df41b473a94dc32b8e139ba17",
       "version_major": 2,
       "version_minor": 0
      },
      "text/plain": [
       "  0%|          | 0/17 [00:00<?, ?it/s]"
      ]
     },
     "metadata": {},
     "output_type": "display_data"
    },
    {
     "data": {
      "application/vnd.jupyter.widget-view+json": {
       "model_id": "fdd173d86c6449129793a1ab8f996a38",
       "version_major": 2,
       "version_minor": 0
      },
      "text/plain": [
       "  0%|          | 0/17 [00:00<?, ?it/s]"
      ]
     },
     "metadata": {},
     "output_type": "display_data"
    },
    {
     "data": {
      "application/vnd.jupyter.widget-view+json": {
       "model_id": "5d2607cfc5544cd1923c7694a3e94230",
       "version_major": 2,
       "version_minor": 0
      },
      "text/plain": [
       "  0%|          | 0/17 [00:00<?, ?it/s]"
      ]
     },
     "metadata": {},
     "output_type": "display_data"
    },
    {
     "data": {
      "application/vnd.jupyter.widget-view+json": {
       "model_id": "8e36210a1a1a495e811010b9fdf6da53",
       "version_major": 2,
       "version_minor": 0
      },
      "text/plain": [
       "  0%|          | 0/17 [00:00<?, ?it/s]"
      ]
     },
     "metadata": {},
     "output_type": "display_data"
    },
    {
     "name": "stdout",
     "output_type": "stream",
     "text": [
      "Epoch 16, validation score: 0.9937977077620448\n"
     ]
    },
    {
     "data": {
      "application/vnd.jupyter.widget-view+json": {
       "model_id": "3a666e1409db4a479e85dcd6b36ba0d4",
       "version_major": 2,
       "version_minor": 0
      },
      "text/plain": [
       "  0%|          | 0/17 [00:00<?, ?it/s]"
      ]
     },
     "metadata": {},
     "output_type": "display_data"
    },
    {
     "data": {
      "application/vnd.jupyter.widget-view+json": {
       "model_id": "84055e3728b54deba176f4e55e0e05c1",
       "version_major": 2,
       "version_minor": 0
      },
      "text/plain": [
       "  0%|          | 0/17 [00:00<?, ?it/s]"
      ]
     },
     "metadata": {},
     "output_type": "display_data"
    },
    {
     "data": {
      "application/vnd.jupyter.widget-view+json": {
       "model_id": "3dd334c08e2142d8b2212efb8384fee3",
       "version_major": 2,
       "version_minor": 0
      },
      "text/plain": [
       "  0%|          | 0/17 [00:00<?, ?it/s]"
      ]
     },
     "metadata": {},
     "output_type": "display_data"
    },
    {
     "data": {
      "application/vnd.jupyter.widget-view+json": {
       "model_id": "f12b260897004c1195ca6e50cc70e7b9",
       "version_major": 2,
       "version_minor": 0
      },
      "text/plain": [
       "  0%|          | 0/17 [00:00<?, ?it/s]"
      ]
     },
     "metadata": {},
     "output_type": "display_data"
    },
    {
     "data": {
      "application/vnd.jupyter.widget-view+json": {
       "model_id": "a0aabcd17717427c821cecda731c20d0",
       "version_major": 2,
       "version_minor": 0
      },
      "text/plain": [
       "  0%|          | 0/17 [00:00<?, ?it/s]"
      ]
     },
     "metadata": {},
     "output_type": "display_data"
    },
    {
     "name": "stdout",
     "output_type": "stream",
     "text": [
      "Epoch 21, validation score: 0.9784129197363238\n"
     ]
    },
    {
     "data": {
      "application/vnd.jupyter.widget-view+json": {
       "model_id": "c2607e779cce4d17ad997d4976d04af4",
       "version_major": 2,
       "version_minor": 0
      },
      "text/plain": [
       "  0%|          | 0/17 [00:00<?, ?it/s]"
      ]
     },
     "metadata": {},
     "output_type": "display_data"
    },
    {
     "data": {
      "application/vnd.jupyter.widget-view+json": {
       "model_id": "b21a877072f34e8c852964609cd0ca6a",
       "version_major": 2,
       "version_minor": 0
      },
      "text/plain": [
       "  0%|          | 0/17 [00:00<?, ?it/s]"
      ]
     },
     "metadata": {},
     "output_type": "display_data"
    },
    {
     "data": {
      "application/vnd.jupyter.widget-view+json": {
       "model_id": "339188bb55b9471294ed3d38aef2c6e1",
       "version_major": 2,
       "version_minor": 0
      },
      "text/plain": [
       "  0%|          | 0/17 [00:00<?, ?it/s]"
      ]
     },
     "metadata": {},
     "output_type": "display_data"
    },
    {
     "data": {
      "application/vnd.jupyter.widget-view+json": {
       "model_id": "8ef46b7a93104a9d82c2e15fe61df2aa",
       "version_major": 2,
       "version_minor": 0
      },
      "text/plain": [
       "  0%|          | 0/17 [00:00<?, ?it/s]"
      ]
     },
     "metadata": {},
     "output_type": "display_data"
    },
    {
     "data": {
      "application/vnd.jupyter.widget-view+json": {
       "model_id": "1fb0e1fea21148a1b50d9749eae7ee82",
       "version_major": 2,
       "version_minor": 0
      },
      "text/plain": [
       "  0%|          | 0/17 [00:00<?, ?it/s]"
      ]
     },
     "metadata": {},
     "output_type": "display_data"
    },
    {
     "name": "stdout",
     "output_type": "stream",
     "text": [
      "Epoch 26, validation score: 0.9677392547452365\n"
     ]
    },
    {
     "data": {
      "application/vnd.jupyter.widget-view+json": {
       "model_id": "1669f681b822446b833d50d369bf770c",
       "version_major": 2,
       "version_minor": 0
      },
      "text/plain": [
       "  0%|          | 0/17 [00:00<?, ?it/s]"
      ]
     },
     "metadata": {},
     "output_type": "display_data"
    },
    {
     "data": {
      "application/vnd.jupyter.widget-view+json": {
       "model_id": "fa0b342504b243208c1205194d955c25",
       "version_major": 2,
       "version_minor": 0
      },
      "text/plain": [
       "  0%|          | 0/17 [00:00<?, ?it/s]"
      ]
     },
     "metadata": {},
     "output_type": "display_data"
    },
    {
     "data": {
      "application/vnd.jupyter.widget-view+json": {
       "model_id": "43dc8e32abb04d90afde61ddab0a0217",
       "version_major": 2,
       "version_minor": 0
      },
      "text/plain": [
       "  0%|          | 0/17 [00:00<?, ?it/s]"
      ]
     },
     "metadata": {},
     "output_type": "display_data"
    },
    {
     "data": {
      "application/vnd.jupyter.widget-view+json": {
       "model_id": "22db641169264c3f97a07398335ed1bc",
       "version_major": 2,
       "version_minor": 0
      },
      "text/plain": [
       "  0%|          | 0/17 [00:00<?, ?it/s]"
      ]
     },
     "metadata": {},
     "output_type": "display_data"
    },
    {
     "data": {
      "application/vnd.jupyter.widget-view+json": {
       "model_id": "c945312a90174dc0991a47b1e60f091b",
       "version_major": 2,
       "version_minor": 0
      },
      "text/plain": [
       "  0%|          | 0/17 [00:00<?, ?it/s]"
      ]
     },
     "metadata": {},
     "output_type": "display_data"
    },
    {
     "name": "stdout",
     "output_type": "stream",
     "text": [
      "Epoch 31, validation score: 0.9596215828977216\n"
     ]
    },
    {
     "data": {
      "application/vnd.jupyter.widget-view+json": {
       "model_id": "75cef9a256e34c789bdf06a51a4a4778",
       "version_major": 2,
       "version_minor": 0
      },
      "text/plain": [
       "  0%|          | 0/17 [00:00<?, ?it/s]"
      ]
     },
     "metadata": {},
     "output_type": "display_data"
    },
    {
     "data": {
      "application/vnd.jupyter.widget-view+json": {
       "model_id": "c59cd2cd99904c2c8f8f205b06017843",
       "version_major": 2,
       "version_minor": 0
      },
      "text/plain": [
       "  0%|          | 0/17 [00:00<?, ?it/s]"
      ]
     },
     "metadata": {},
     "output_type": "display_data"
    },
    {
     "data": {
      "application/vnd.jupyter.widget-view+json": {
       "model_id": "062c5c15947d4d649579894ebfde8139",
       "version_major": 2,
       "version_minor": 0
      },
      "text/plain": [
       "  0%|          | 0/17 [00:00<?, ?it/s]"
      ]
     },
     "metadata": {},
     "output_type": "display_data"
    },
    {
     "data": {
      "application/vnd.jupyter.widget-view+json": {
       "model_id": "cfe03f3bc75f4c55a8c2b15ea1fd9b6f",
       "version_major": 2,
       "version_minor": 0
      },
      "text/plain": [
       "  0%|          | 0/17 [00:00<?, ?it/s]"
      ]
     },
     "metadata": {},
     "output_type": "display_data"
    },
    {
     "data": {
      "application/vnd.jupyter.widget-view+json": {
       "model_id": "fcdcb326ca6c4f57a3fcb880e67551ac",
       "version_major": 2,
       "version_minor": 0
      },
      "text/plain": [
       "  0%|          | 0/17 [00:00<?, ?it/s]"
      ]
     },
     "metadata": {},
     "output_type": "display_data"
    },
    {
     "name": "stdout",
     "output_type": "stream",
     "text": [
      "Epoch 36, validation score: 0.95372715673926\n"
     ]
    },
    {
     "data": {
      "application/vnd.jupyter.widget-view+json": {
       "model_id": "0a1fd6939a784962a1f75fd2858bb53e",
       "version_major": 2,
       "version_minor": 0
      },
      "text/plain": [
       "  0%|          | 0/17 [00:00<?, ?it/s]"
      ]
     },
     "metadata": {},
     "output_type": "display_data"
    },
    {
     "data": {
      "application/vnd.jupyter.widget-view+json": {
       "model_id": "353b98f09bf849219d0d70a8126fce99",
       "version_major": 2,
       "version_minor": 0
      },
      "text/plain": [
       "  0%|          | 0/17 [00:00<?, ?it/s]"
      ]
     },
     "metadata": {},
     "output_type": "display_data"
    },
    {
     "data": {
      "application/vnd.jupyter.widget-view+json": {
       "model_id": "5a5790385dda4fc49faf9437b952dd27",
       "version_major": 2,
       "version_minor": 0
      },
      "text/plain": [
       "  0%|          | 0/17 [00:00<?, ?it/s]"
      ]
     },
     "metadata": {},
     "output_type": "display_data"
    },
    {
     "data": {
      "application/vnd.jupyter.widget-view+json": {
       "model_id": "d652e663af344ed9a17d9b69a4c6c3b6",
       "version_major": 2,
       "version_minor": 0
      },
      "text/plain": [
       "  0%|          | 0/17 [00:00<?, ?it/s]"
      ]
     },
     "metadata": {},
     "output_type": "display_data"
    },
    {
     "data": {
      "application/vnd.jupyter.widget-view+json": {
       "model_id": "96880129df1b432687423be37e6a155b",
       "version_major": 2,
       "version_minor": 0
      },
      "text/plain": [
       "  0%|          | 0/17 [00:00<?, ?it/s]"
      ]
     },
     "metadata": {},
     "output_type": "display_data"
    },
    {
     "name": "stdout",
     "output_type": "stream",
     "text": [
      "Epoch 41, validation score: 0.9498467271535068\n"
     ]
    },
    {
     "data": {
      "application/vnd.jupyter.widget-view+json": {
       "model_id": "e400278d050840dc99b55cc9281ee7cf",
       "version_major": 2,
       "version_minor": 0
      },
      "text/plain": [
       "  0%|          | 0/17 [00:00<?, ?it/s]"
      ]
     },
     "metadata": {},
     "output_type": "display_data"
    },
    {
     "data": {
      "application/vnd.jupyter.widget-view+json": {
       "model_id": "04ae4af331444e06a4decbc8ce3f4c78",
       "version_major": 2,
       "version_minor": 0
      },
      "text/plain": [
       "  0%|          | 0/17 [00:00<?, ?it/s]"
      ]
     },
     "metadata": {},
     "output_type": "display_data"
    },
    {
     "data": {
      "application/vnd.jupyter.widget-view+json": {
       "model_id": "fc99df24de014e048a07985ca7131a4d",
       "version_major": 2,
       "version_minor": 0
      },
      "text/plain": [
       "  0%|          | 0/17 [00:00<?, ?it/s]"
      ]
     },
     "metadata": {},
     "output_type": "display_data"
    },
    {
     "data": {
      "application/vnd.jupyter.widget-view+json": {
       "model_id": "875a802c0a5a4161a3961cb8b404ec37",
       "version_major": 2,
       "version_minor": 0
      },
      "text/plain": [
       "  0%|          | 0/17 [00:00<?, ?it/s]"
      ]
     },
     "metadata": {},
     "output_type": "display_data"
    },
    {
     "data": {
      "application/vnd.jupyter.widget-view+json": {
       "model_id": "eb41fa784d68438d92f5d5072d6a3c38",
       "version_major": 2,
       "version_minor": 0
      },
      "text/plain": [
       "  0%|          | 0/17 [00:00<?, ?it/s]"
      ]
     },
     "metadata": {},
     "output_type": "display_data"
    },
    {
     "name": "stdout",
     "output_type": "stream",
     "text": [
      "Epoch 46, validation score: 0.9473769289674813\n"
     ]
    },
    {
     "data": {
      "application/vnd.jupyter.widget-view+json": {
       "model_id": "a13cf707dc3e40cdb2bcb2d7f5774d5d",
       "version_major": 2,
       "version_minor": 0
      },
      "text/plain": [
       "  0%|          | 0/17 [00:00<?, ?it/s]"
      ]
     },
     "metadata": {},
     "output_type": "display_data"
    },
    {
     "data": {
      "application/vnd.jupyter.widget-view+json": {
       "model_id": "5389e3107c7b414f9b142dff1d8d3128",
       "version_major": 2,
       "version_minor": 0
      },
      "text/plain": [
       "  0%|          | 0/17 [00:00<?, ?it/s]"
      ]
     },
     "metadata": {},
     "output_type": "display_data"
    },
    {
     "data": {
      "application/vnd.jupyter.widget-view+json": {
       "model_id": "3ae2ce5e87df4a158a50c5b78c84deac",
       "version_major": 2,
       "version_minor": 0
      },
      "text/plain": [
       "  0%|          | 0/17 [00:00<?, ?it/s]"
      ]
     },
     "metadata": {},
     "output_type": "display_data"
    },
    {
     "data": {
      "application/vnd.jupyter.widget-view+json": {
       "model_id": "d5642a79b39e4f8b8d31bdf473bf9f93",
       "version_major": 2,
       "version_minor": 0
      },
      "text/plain": [
       "  0%|          | 0/17 [00:00<?, ?it/s]"
      ]
     },
     "metadata": {},
     "output_type": "display_data"
    },
    {
     "name": "stdout",
     "output_type": "stream",
     "text": [
      "Best validation score:0.9457252799223612\n"
     ]
    }
   ],
   "source": [
    "train_U = pd.DataFrame({'K':torch.stack(K_list_train), 'ZFYA':train_tensor[:len(K_list_train),2]})\n",
    "test_U = pd.DataFrame({'K':torch.stack(K_list_test), 'ZFYA':test_tensor[:len(K_list_test),2]})\n",
    "\n",
    "\n",
    "# create and train model\n",
    "fairK_model = LinearRegressionModel(train_U.shape[1]-1, 1)\n",
    "# fairK_model.load_state_dict(torch.load('fairK_model.pt'))\n",
    "fairK_validation_scores, fairK_train_losses = train(fairK_model, train_U, test_U, 'fairK_model', n_epochs=50, batch_size=5)"
   ]
  },
  {
   "cell_type": "code",
   "execution_count": 67,
   "metadata": {},
   "outputs": [],
   "source": [
    "def train_linear_model(x_train, y_train):\n",
    "\n",
    "  lin_model = PyroModule[nn.Linear](x_train.shape[1], 1)\n",
    "  loss_fn = torch.nn.MSELoss()\n",
    "  optim = torch.optim.Adam(lin_model.parameters(), lr=0.05)\n",
    "  num_iterations = 1000\n",
    "\n",
    "  def train():\n",
    "      y_pred = lin_model(x_train).squeeze(-1)\n",
    "          # calculate the mse loss\n",
    "      loss = loss_fn(y_pred, y_train)\n",
    "          # initialize gradients to zero\n",
    "      optim.zero_grad()\n",
    "          # backpropagate\n",
    "      loss.backward()\n",
    "        # take a gradient step\n",
    "      optim.step()\n",
    "      return loss\n",
    "\n",
    "  for j in range(num_iterations):\n",
    "      loss = train()\n",
    "      if (j + 1) % 300 == 0:\n",
    "          print(\"[iteration %04d] RMSE loss: %.4f\" % (j + 1, np.square(loss.item())))\n",
    "\n",
    "  return lin_model"
   ]
  },
  {
   "cell_type": "code",
   "execution_count": 68,
   "metadata": {},
   "outputs": [
    {
     "name": "stdout",
     "output_type": "stream",
     "text": [
      "[iteration 0300] RMSE loss: 0.6941\n",
      "[iteration 0600] RMSE loss: 0.6941\n",
      "[iteration 0900] RMSE loss: 0.6941\n",
      "Fair K Model: RMSE on test samples = 0.8146\n"
     ]
    }
   ],
   "source": [
    "x_data, y_data = torch.tensor(K_list_train, dtype=torch.float32).reshape(-1,1), train_tensor[:len(K_list_train),2]\n",
    "\n",
    "model_fairK = train_linear_model(x_data, y_data)\n",
    "\n",
    "\n",
    "loss_fn = torch.nn.MSELoss()\n",
    "y_pred_test = model_fairK(torch.tensor(K_list_test, dtype=torch.float32).reshape(-1,1)).squeeze(-1)\n",
    "loss = loss_fn(y_pred_test, test_tensor[:len(K_list_test),2]).item()\n",
    "print(f\"Fair K Model: RMSE on test samples = {np.square(loss):.4f}\")\n"
   ]
  },
  {
   "cell_type": "code",
   "execution_count": null,
   "metadata": {},
   "outputs": [],
   "source": []
  }
 ],
 "metadata": {
  "kernelspec": {
   "display_name": "Python 3",
   "language": "python",
   "name": "python3"
  },
  "language_info": {
   "codemirror_mode": {
    "name": "ipython",
    "version": 3
   },
   "file_extension": ".py",
   "mimetype": "text/x-python",
   "name": "python",
   "nbconvert_exporter": "python",
   "pygments_lexer": "ipython3",
   "version": "3.1.0"
  }
 },
 "nbformat": 4,
 "nbformat_minor": 2
}
